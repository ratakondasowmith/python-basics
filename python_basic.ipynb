{
  "nbformat": 4,
  "nbformat_minor": 0,
  "metadata": {
    "colab": {
      "provenance": []
    },
    "kernelspec": {
      "name": "python3",
      "display_name": "Python 3"
    },
    "language_info": {
      "name": "python"
    }
  },
  "cells": [
    {
      "cell_type": "markdown",
      "source": [
        "# Python Basics Questions\n"
      ],
      "metadata": {
        "id": "wuTKTrK-E9Sk"
      }
    },
    {
      "cell_type": "markdown",
      "source": [
        "1Q.what is python,and why is it popular?"
      ],
      "metadata": {
        "id": "QNSIyJgMFxjV"
      }
    },
    {
      "cell_type": "markdown",
      "source": [
        "A.Python is versatile,General purpose,pro programming language know for its readability and ease of use,it was created by Guido van Rossum and first released in 1991.python is popular for several key reasons they are  1.simplicity and Readability 2.Versatality 3.Large standard library Eco System 4.Strong Community Support 5.Platform Independence 6.Excellent For prototyping 7.used by big tech and acadamia 8.Integration capabilities.\n",
        "\n"
      ],
      "metadata": {
        "id": "56YyuqhWF72v"
      }
    },
    {
      "cell_type": "markdown",
      "source": [
        "2Q.what is an interpreter in Python?\n"
      ],
      "metadata": {
        "id": "QBGPtzqL4zlW"
      }
    },
    {
      "cell_type": "markdown",
      "source": [
        "A.In Python,an interpreter is a program that reads and executes python code line by line.Python interpreter reads your code,parses and Translates it and executes it Line by Line"
      ],
      "metadata": {
        "id": "fnp5rHa07EnQ"
      }
    },
    {
      "cell_type": "markdown",
      "source": [
        "3Q. what are pre-defined keywords in python?"
      ],
      "metadata": {
        "id": "61xB1jNF71Zj"
      }
    },
    {
      "cell_type": "markdown",
      "source": [
        "A.pre-defined keywords in python,also known as reserved words,are special words that are part of the python language syntax.These keywords have specific Meanings and csnnot be used as identifiers.Pre-defined keywords are: False,await,else,import,pass,none,break,except,in,raise,true,class,finally,is,return,and.continue,for,lambda,try,as,def,from,nonlocsl,while,assert,del,global,not,withasync,elif,if,or,yield."
      ],
      "metadata": {
        "id": "w0zrWUKD8Bev"
      }
    },
    {
      "cell_type": "markdown",
      "source": [
        "4Q.Can keywords be used as variable names?"
      ],
      "metadata": {
        "id": "yorUU_HSKo_Q"
      }
    },
    {
      "cell_type": "markdown",
      "source": [
        "A.No keywords cannot be used as variable name in python,because python keywords are Reserved words that have special meaning in the syntax like(if,for,class,def,etc.).using them cause a syntax error because python expects them to be used for their specific purpose."
      ],
      "metadata": {
        "id": "4cEFMDGiLcaC"
      }
    },
    {
      "cell_type": "markdown",
      "source": [
        "5Q.What is Mutability in python?"
      ],
      "metadata": {
        "id": "CkAIY7dCJ4as"
      }
    },
    {
      "cell_type": "markdown",
      "source": [
        "A.Mutability in python refers to Whether or not an object can be changed after it is created."
      ],
      "metadata": {
        "id": "EhOP_wTgKdRh"
      }
    },
    {
      "cell_type": "code",
      "source": [
        "#example for mutability\n",
        "numbers = [1, 2, 3]\n",
        "print(\"before;\", numbers)\n",
        "numbers[0] = 7\n",
        "print(\"After\", numbers)"
      ],
      "metadata": {
        "colab": {
          "base_uri": "https://localhost:8080/"
        },
        "id": "1QiZfZdvMw7K",
        "outputId": "6c0b5491-7c42-4a8d-f19b-b9f96775abe9"
      },
      "execution_count": null,
      "outputs": [
        {
          "output_type": "stream",
          "name": "stdout",
          "text": [
            "before; [1, 2, 3]\n",
            "After [7, 2, 3]\n"
          ]
        }
      ]
    },
    {
      "cell_type": "markdown",
      "source": [
        "6Q.Why are lists Mutable,but tuples are immutable?"
      ],
      "metadata": {
        "id": "tC-KUmNZMtHp"
      }
    },
    {
      "cell_type": "markdown",
      "source": [
        "A.Lists are mutable because,(they are meant to store dynamic data)Lists are often used when the nymber or content of elements changes over time,easily update,delete or insert elements and these lists are used in loops,algorithms and where data evolves so mutability is necessary.Tuples are immutable because,(they are meant to fixed data)Tuples represents things that should not be changed(like co-ordinates,RGB values or database keys).Since tuples can't change,they are hashable while lists cannot,tuples use less memory and are faster than lists,because thir immutability allows internal optimizations.so tuples are immutable."
      ],
      "metadata": {
        "id": "jaUXEuXEOcIV"
      }
    },
    {
      "cell_type": "markdown",
      "source": [
        "7Q.what is the difference between \"==\" and \"is\" operators in Python?"
      ],
      "metadata": {
        "id": "sWp7sgu4R-cq"
      }
    },
    {
      "cell_type": "markdown",
      "source": [
        "A.(==)Equality operator,purpose of this operator is to compares values of two objects,it returns True if the values are equal,regardless whether they are the same object in the memory. (Is)identity operator Checks whether two references point to the same object in memory,it returns True only if both variables refer to the exact same object (same memory address)."
      ],
      "metadata": {
        "id": "1qwGgUJYSZK4"
      }
    },
    {
      "cell_type": "code",
      "source": [
        "#exapmle for ==\n",
        "a = [1, 2, 3]\n",
        "b = [1, 2, 3]\n",
        "print(a == b)  # True, because the contents (values) are the same\n"
      ],
      "metadata": {
        "colab": {
          "base_uri": "https://localhost:8080/"
        },
        "id": "oOPAnxxFGHxr",
        "outputId": "41a348a1-b1ea-4892-bcd5-b6b121df25c9"
      },
      "execution_count": null,
      "outputs": [
        {
          "output_type": "stream",
          "name": "stdout",
          "text": [
            "True\n"
          ]
        }
      ]
    },
    {
      "cell_type": "code",
      "source": [
        "#example for is\n",
        "a = [1, 2, 3]\n",
        "b = [1, 2, 3]\n",
        "print(a is b)  # False, because they are different objects in memory\n"
      ],
      "metadata": {
        "id": "AdNk3wd5MqqI",
        "colab": {
          "base_uri": "https://localhost:8080/"
        },
        "outputId": "294d2593-cd09-4db9-e0ad-b09fbcc87962"
      },
      "execution_count": null,
      "outputs": [
        {
          "output_type": "stream",
          "name": "stdout",
          "text": [
            "False\n"
          ]
        }
      ]
    },
    {
      "cell_type": "markdown",
      "source": [
        "8Q.what are logical operators in python?"
      ],
      "metadata": {
        "id": "tG-TAmuqGaos"
      }
    },
    {
      "cell_type": "markdown",
      "source": [
        "A.Logical operators are used to combine conditional statements and perform boolean logic operations. Python provides three main logical operators:and,or,not. (and) Returns True if both operands are True and it Short circuits If the first condition is False, it doesn't evaluate the second.(or) it returns True if at least one operand is True,and it Short-circuits If the first condition is True, it doesn't evaluate the second.(not) it returns the opposite boolean value,Unary operator (works with a single condition).\n"
      ],
      "metadata": {
        "id": "1o6fN2miG5MK"
      }
    },
    {
      "cell_type": "code",
      "source": [
        "#example for and\n",
        "x = 10\n",
        "print(x > 5 and x < 20)  # True (both conditions are True)\n",
        "print(x > 5 and x > 20)  # False (second is False)\n"
      ],
      "metadata": {
        "colab": {
          "base_uri": "https://localhost:8080/"
        },
        "id": "vvrXKa1dI8b6",
        "outputId": "67e3c587-5ca8-4c5c-9457-0aeca6df0a3c"
      },
      "execution_count": null,
      "outputs": [
        {
          "output_type": "stream",
          "name": "stdout",
          "text": [
            "True\n",
            "False\n"
          ]
        }
      ]
    },
    {
      "cell_type": "code",
      "source": [
        "#example for or\n",
        "x = 10\n",
        "print(x < 5 or x > 8)  # True (second condition is True)\n",
        "print(x < 5 or x < 2)  # False (both are False)\n"
      ],
      "metadata": {
        "id": "LzuuKqIFF6Te",
        "colab": {
          "base_uri": "https://localhost:8080/"
        },
        "outputId": "7149787c-57db-4868-b084-b98b6356da42"
      },
      "execution_count": null,
      "outputs": [
        {
          "output_type": "stream",
          "name": "stdout",
          "text": [
            "True\n",
            "False\n"
          ]
        }
      ]
    },
    {
      "cell_type": "code",
      "source": [
        "#example for not\n",
        "x = 10\n",
        "print(not (x > 5))  # False, because x > 5 is True\n",
        "print(not False)    # True\n"
      ],
      "metadata": {
        "colab": {
          "base_uri": "https://localhost:8080/"
        },
        "id": "0mdFSrlhJky8",
        "outputId": "92497a04-9c80-4546-f00b-8d5cbbb4244f"
      },
      "execution_count": null,
      "outputs": [
        {
          "output_type": "stream",
          "name": "stdout",
          "text": [
            "False\n",
            "True\n"
          ]
        }
      ]
    },
    {
      "cell_type": "markdown",
      "source": [
        "9Q.What is type casting in python?"
      ],
      "metadata": {
        "id": "nPgEm0DCJtbk"
      }
    },
    {
      "cell_type": "markdown",
      "source": [
        "A.Type casting (or type conversion) in Python is the process of converting a value from one data type to another.\n",
        "There are two types in type-casting,they are:\n",
        " Implicit Type Casting (Automatic),Explicit Type Casting (Manual)"
      ],
      "metadata": {
        "id": "1kWliHWX8Avc"
      }
    },
    {
      "cell_type": "markdown",
      "source": [
        "10Q.What is the difference between impicit and explicit type casting?"
      ],
      "metadata": {
        "id": "tIGtNKtlKhou"
      }
    },
    {
      "cell_type": "markdown",
      "source": [
        "Implicit Type Casting\n",
        "Definition: Implicit type casting is automatically performed by the Python interpreter when it converts one data type to another without user intervention.\n",
        "\n",
        "Purpose: To prevent data loss or type mismatches during operations involving multiple data types.\n",
        "\n",
        "Characteristics:\n",
        "\n",
        "-Done automatically.\n",
        "\n",
        "-Safe and does not result in data loss.\n",
        "\n",
        "-Usually occurs in expressions involving mixed data types (e.g., int and float).\n",
        "\n",
        "Example: When adding an integer and a float, Python converts the integer to float automatically.\n",
        "\n",
        "Explicit type casting\n",
        "Definition: Explicit type casting is the manual conversion of one data type into another using built-in Python functions (e.g., int(), float(), str()).\n",
        "\n",
        "Purpose: Used when the programmer needs to force a conversion between incompatible or different types.\n",
        "\n",
        "Characteristics:\n",
        "\n",
        "-Requires the programmer to write conversion code.\n",
        "\n",
        "-May lead to data loss or runtime errors if not handled correctly.\n",
        "\n",
        "-Offers more control over how types are converted.\n",
        "\n",
        "Example: Manually converting a string \"123\" to an integer using int(\"123\").\n",
        "\n",
        "\n",
        "\n"
      ],
      "metadata": {
        "id": "uruO84usLsEF"
      }
    },
    {
      "cell_type": "markdown",
      "source": [
        "11Q.What is the purpose of conditional statements in python?"
      ],
      "metadata": {
        "id": "jgsH98Nd95eG"
      }
    },
    {
      "cell_type": "markdown",
      "source": [
        "The purpose of conditional statements in Python is to allow a program to make decisions and execute different code depending on whether a condition is true or false.\n",
        "\n",
        "Common conditional statements in Python:if,if-else,if-elif-else,nested if-else.\n",
        "\n"
      ],
      "metadata": {
        "id": "RMmiTiKi-TEk"
      }
    },
    {
      "cell_type": "markdown",
      "source": [
        "12Q.How does the elif statement work?"
      ],
      "metadata": {
        "id": "TgVZxbRX_OK2"
      }
    },
    {
      "cell_type": "markdown",
      "source": [
        "The elif statement in Python stands for \"else if\" and is used to check multiple conditions after an initial if.\n",
        "\n",
        "-Python checks the if condition first.\n",
        "\n",
        "-If if is false, it moves to the elif condition(s).\n",
        "\n",
        "-It checks the elif conditions in order.\n",
        "\n",
        "-As soon as it finds one elif that is true, it executes that block and skips the rest.\n",
        "\n",
        "-If none of the if or elif conditions are true, the optional else block is executed."
      ],
      "metadata": {
        "id": "s8fPNCac_ViC"
      }
    },
    {
      "cell_type": "code",
      "source": [
        "#example\n",
        "score = 75\n",
        "\n",
        "if score >= 90:\n",
        "    print(\"Grade: A\")\n",
        "elif score >= 80:\n",
        "    print(\"Grade: B\")\n",
        "elif score >= 70:\n",
        "    print(\"Grade: C\")\n",
        "else:\n",
        "    print(\"Grade: F\")\n"
      ],
      "metadata": {
        "colab": {
          "base_uri": "https://localhost:8080/"
        },
        "id": "i8xnpLAW_kHA",
        "outputId": "261472f9-6c3e-4fd2-e478-9cfbe8a46188"
      },
      "execution_count": 1,
      "outputs": [
        {
          "output_type": "stream",
          "name": "stdout",
          "text": [
            "Grade: C\n"
          ]
        }
      ]
    },
    {
      "cell_type": "markdown",
      "source": [
        "13Q.What is the difference between for and while loops?"
      ],
      "metadata": {
        "id": "imb7YldJABTW"
      }
    },
    {
      "cell_type": "markdown",
      "source": [
        "A.The difference between for and while loops in Python lies in how and when they stop.\n",
        "For loop used when you know how many times you want to loop.\n",
        "While loop Used when you don't know how many times to loop—just want to loop until a condition becomes false."
      ],
      "metadata": {
        "id": "rN42_hBqAWec"
      }
    },
    {
      "cell_type": "code",
      "source": [
        "#example for for loop\n",
        "for i in range(5):\n",
        "    print(i)\n"
      ],
      "metadata": {
        "colab": {
          "base_uri": "https://localhost:8080/"
        },
        "id": "4WKCcz63AvzR",
        "outputId": "a2cad278-25e0-4627-e8d0-cee79be91b3a"
      },
      "execution_count": 2,
      "outputs": [
        {
          "output_type": "stream",
          "name": "stdout",
          "text": [
            "0\n",
            "1\n",
            "2\n",
            "3\n",
            "4\n"
          ]
        }
      ]
    },
    {
      "cell_type": "markdown",
      "source": [],
      "metadata": {
        "id": "WN_Tv1s-A1_n"
      }
    },
    {
      "cell_type": "code",
      "source": [
        "#example for While loop\n",
        "x = 0\n",
        "while x < 5:\n",
        "    print(x)\n",
        "    x += 1\n"
      ],
      "metadata": {
        "colab": {
          "base_uri": "https://localhost:8080/"
        },
        "id": "3N0QK87fBGgL",
        "outputId": "5d2e7cd0-2186-4aca-efd3-8feecf8d0b7a"
      },
      "execution_count": 3,
      "outputs": [
        {
          "output_type": "stream",
          "name": "stdout",
          "text": [
            "0\n",
            "1\n",
            "2\n",
            "3\n",
            "4\n"
          ]
        }
      ]
    },
    {
      "cell_type": "markdown",
      "source": [
        "14Q.Describe a scenario where a while loop is more suitable than a for loop?"
      ],
      "metadata": {
        "id": "XwDWiiZFBPNu"
      }
    },
    {
      "cell_type": "markdown",
      "source": [
        "A.In programming, for loops are best used when you know the number of iterations ahead of time, whereas a while loop is best used when you don't know the number of iterations in advance. Both methods can help you iterate through your code.\n",
        "\n",
        "Scenario: Prompting a user until they enter a valid email address.\n",
        "\n",
        "Why a while loop fits\n",
        "-Unknown iteration count: You don’t know how many attempts the user will need.\n",
        "\n",
        "-Condition-driven exit: Loop should stop only when the input passes a validity test.\n",
        "\n",
        "-A for loop would force you to pick an arbitrary upper limit (e.g., 5 tries), or add awkward break logic—both less natural than simply looping “while not valid.”\n",
        "\n",
        "\n",
        "\n"
      ],
      "metadata": {
        "id": "E9FqBLEcBgcS"
      }
    },
    {
      "cell_type": "code",
      "source": [
        "#wxample\n",
        "import re\n",
        "\n",
        "email_pattern = re.compile(r\"^[\\w\\.-]+@[\\w\\.-]+\\.\\w+$\")\n",
        "\n",
        "while True:\n",
        "    user_input = input(\"Enter your email: \")\n",
        "    if email_pattern.match(user_input):\n",
        "        print(\"Thanks! Email saved.\")\n",
        "        break          # exit once the condition is satisfied\n",
        "    else:\n",
        "        print(\"Invalid email. Try again.\")\n"
      ],
      "metadata": {
        "colab": {
          "base_uri": "https://localhost:8080/"
        },
        "id": "XGSLWCZjCPNl",
        "outputId": "cdc69bf4-bfe0-4d9f-9aa5-1e20d04f4f67"
      },
      "execution_count": 4,
      "outputs": [
        {
          "output_type": "stream",
          "name": "stdout",
          "text": [
            "Enter your email: naidu@gmail.com\n",
            "Thanks! Email saved.\n"
          ]
        }
      ]
    },
    {
      "cell_type": "markdown",
      "source": [
        "#Practical Questions"
      ],
      "metadata": {
        "id": "j3yQmqvpC2gV"
      }
    },
    {
      "cell_type": "markdown",
      "source": [
        "1Q.Write a python program to print \"Hello, world!\"."
      ],
      "metadata": {
        "id": "Y0-2mDEZCwwI"
      }
    },
    {
      "cell_type": "code",
      "source": [
        "#answer\n",
        "# This is a basic Python program\n",
        "print(\"Hello, world!\")\n"
      ],
      "metadata": {
        "colab": {
          "base_uri": "https://localhost:8080/"
        },
        "id": "L_8jyooVDaAv",
        "outputId": "a7933330-25d9-498d-81e8-92394284249c"
      },
      "execution_count": 20,
      "outputs": [
        {
          "output_type": "stream",
          "name": "stdout",
          "text": [
            "Hello, world!\n"
          ]
        }
      ]
    },
    {
      "cell_type": "markdown",
      "source": [
        "2Q.Write a python progam that displays your name and age."
      ],
      "metadata": {
        "id": "YbgtjqqyDeKE"
      }
    },
    {
      "cell_type": "code",
      "source": [
        "#answer\n",
        "# Program to display name and age\n",
        "\n",
        "name = \"Sowmith\"\n",
        "age = 22\n",
        "\n",
        "print(\"My name is\", name)\n",
        "print(\"I am\", age, \"years old\")\n"
      ],
      "metadata": {
        "colab": {
          "base_uri": "https://localhost:8080/"
        },
        "id": "4QeGgdypDtO-",
        "outputId": "f5ec3e76-703e-4ee7-bf8e-e9d88695f649"
      },
      "execution_count": 6,
      "outputs": [
        {
          "output_type": "stream",
          "name": "stdout",
          "text": [
            "My name is Sowmith\n",
            "I am 22 years old\n"
          ]
        }
      ]
    },
    {
      "cell_type": "markdown",
      "source": [
        "3Q.Write the code to print all pre-defined keywords in python using the keyword library."
      ],
      "metadata": {
        "id": "MaSDZYcMD6hc"
      }
    },
    {
      "cell_type": "code",
      "source": [
        "#answer\n",
        "import keyword\n",
        "\n",
        "keywords = keyword.kwlist\n",
        "\n",
        "print(\"Python keywords:\")\n",
        "for kw in keywords:\n",
        "    print(kw)\n"
      ],
      "metadata": {
        "colab": {
          "base_uri": "https://localhost:8080/"
        },
        "id": "LxM9bRS-EwYE",
        "outputId": "aa4c7f67-6a72-4a67-88b9-23c636abb44b"
      },
      "execution_count": 21,
      "outputs": [
        {
          "output_type": "stream",
          "name": "stdout",
          "text": [
            "Python keywords:\n",
            "False\n",
            "None\n",
            "True\n",
            "and\n",
            "as\n",
            "assert\n",
            "async\n",
            "await\n",
            "break\n",
            "class\n",
            "continue\n",
            "def\n",
            "del\n",
            "elif\n",
            "else\n",
            "except\n",
            "finally\n",
            "for\n",
            "from\n",
            "global\n",
            "if\n",
            "import\n",
            "in\n",
            "is\n",
            "lambda\n",
            "nonlocal\n",
            "not\n",
            "or\n",
            "pass\n",
            "raise\n",
            "return\n",
            "try\n",
            "while\n",
            "with\n",
            "yield\n"
          ]
        }
      ]
    },
    {
      "cell_type": "markdown",
      "source": [
        "4Q.Write a program that checks if a given word is a python keyword."
      ],
      "metadata": {
        "id": "rhliFYwCE6E1"
      }
    },
    {
      "cell_type": "code",
      "source": [
        "#answer\n",
        "import keyword\n",
        "\n",
        "word = input(\"Enter a word: \")\n",
        "\n",
        "if keyword.iskeyword(word):\n",
        "    print(f\"'{word}' is a Python keyword.\")\n",
        "else:\n",
        "    print(f\"'{word}' is NOT a Python keyword.\")\n"
      ],
      "metadata": {
        "colab": {
          "base_uri": "https://localhost:8080/"
        },
        "id": "cHRRS_Q7DOwR",
        "outputId": "9a13cefe-f457-4786-d9ea-f2b0efc21c71"
      },
      "execution_count": 23,
      "outputs": [
        {
          "output_type": "stream",
          "name": "stdout",
          "text": [
            "Enter a word: while\n",
            "'while' is a Python keyword.\n"
          ]
        }
      ]
    },
    {
      "cell_type": "markdown",
      "source": [
        "5Q.Create a list and tuple in python,and demonstrate how attempting to change an element works differently for each."
      ],
      "metadata": {
        "id": "14AdkMiFFiBM"
      }
    },
    {
      "cell_type": "code",
      "source": [
        "#answer\n",
        "my_list = [10, 20, 30]\n",
        "my_tuple = (10, 20, 30)\n",
        "\n",
        "my_list[1] = 99\n",
        "print(\"Modified list:\", my_list)\n",
        "\n",
        "# Attempting to change an element in the tuple\n",
        "my_tuple[1] = 99  # This will raise an error\n"
      ],
      "metadata": {
        "id": "XbhNUuNyGBQB"
      },
      "execution_count": null,
      "outputs": []
    },
    {
      "cell_type": "markdown",
      "source": [
        "6Q.Write a function to demonstrate the behavior of mutable and immutable arguments."
      ],
      "metadata": {
        "id": "nBmasYUrG7Tt"
      }
    },
    {
      "cell_type": "code",
      "source": [
        "#answer\n",
        "def modify_args(mutable_arg, immutable_arg):\n",
        "    mutable_arg.append(100)\n",
        "\n",
        "    immutable_arg += 100\n",
        "\n",
        "    print(\"Inside function:\")\n",
        "    print(\"Mutable arg:\", mutable_arg)\n",
        "    print(\"Immutable arg:\", immutable_arg)\n",
        "\n",
        "\n",
        "# Example usage:\n",
        "\n",
        "my_list = [1, 2, 3]\n",
        "my_number = 50\n",
        "\n",
        "print(\"Before function call:\")\n",
        "print(\"List:\", my_list)\n",
        "print(\"Number:\", my_number)\n",
        "\n",
        "modify_args(my_list, my_number)\n",
        "\n",
        "print(\"\\nAfter function call:\")\n",
        "print(\"List:\", my_list)        # Changed!\n",
        "print(\"Number:\", my_number)    # Unchanged!\n"
      ],
      "metadata": {
        "colab": {
          "base_uri": "https://localhost:8080/"
        },
        "id": "LlHRYE9bHeE5",
        "outputId": "0f35f70d-1bdf-4db3-9740-050d70cafb46"
      },
      "execution_count": 24,
      "outputs": [
        {
          "output_type": "stream",
          "name": "stdout",
          "text": [
            "Before function call:\n",
            "List: [1, 2, 3]\n",
            "Number: 50\n",
            "Inside function:\n",
            "Mutable arg: [1, 2, 3, 100]\n",
            "Immutable arg: 150\n",
            "\n",
            "After function call:\n",
            "List: [1, 2, 3, 100]\n",
            "Number: 50\n"
          ]
        }
      ]
    },
    {
      "cell_type": "markdown",
      "source": [
        "7Q.write a program that perform basic arthimetic operations on two-user input numbers."
      ],
      "metadata": {
        "id": "quXyBC8jH1G0"
      }
    },
    {
      "cell_type": "code",
      "source": [
        "#answer\n",
        "num1 = float(input(\"Enter the first number: \"))\n",
        "num2 = float(input(\"Enter the second number: \"))\n",
        "\n",
        "# Perform arithmetic operations\n",
        "addition = num1 + num2\n",
        "subtraction = num1 - num2\n",
        "multiplication = num1 * num2\n",
        "\n",
        "# Handle division carefully to avoid division by zero\n",
        "if num2 != 0:\n",
        "    division = num1 / num2\n",
        "else:\n",
        "    division = \"Undefined (cannot divide by zero)\"\n",
        "\n",
        "# Display the results\n",
        "print(f\"{num1} + {num2} = {addition}\")\n",
        "print(f\"{num1} - {num2} = {subtraction}\")\n",
        "print(f\"{num1} * {num2} = {multiplication}\")\n",
        "print(f\"{num1} / {num2} = {division}\")\n"
      ],
      "metadata": {
        "colab": {
          "base_uri": "https://localhost:8080/"
        },
        "id": "HBhzpFgwIgON",
        "outputId": "e628fd63-0656-48cd-e331-4426c93baaba"
      },
      "execution_count": 25,
      "outputs": [
        {
          "output_type": "stream",
          "name": "stdout",
          "text": [
            "Enter the first number: 5\n",
            "Enter the second number: 4\n",
            "5.0 + 4.0 = 9.0\n",
            "5.0 - 4.0 = 1.0\n",
            "5.0 * 4.0 = 20.0\n",
            "5.0 / 4.0 = 1.25\n"
          ]
        }
      ]
    },
    {
      "cell_type": "markdown",
      "source": [
        "8Q.write a program to demonstrate the use of logical operators."
      ],
      "metadata": {
        "id": "6hNT83aYIoKC"
      }
    },
    {
      "cell_type": "code",
      "source": [
        "#answer\n",
        "a = True\n",
        "b = False\n",
        "\n",
        "print(\"a =\", a)\n",
        "print(\"b =\", b)\n",
        "\n",
        "print(\"a and b:\", a and b)\n",
        "\n",
        "print(\"a or b:\", a or b)\n",
        "\n",
        "print(\"not a:\", not a)\n",
        "print(\"not b:\", not b)\n",
        "\n",
        "x = 10\n",
        "y = 5\n",
        "\n",
        "print(\"\\nChecking conditions with logical operators:\")\n",
        "print(\"(x > 5) and (y < 10):\", (x > 5) and (y < 10))\n",
        "print(\"(x < 5) or (y < 10):\", (x < 5) or (y < 10))\n",
        "print(\"not (x == y):\", not (x == y))\n"
      ],
      "metadata": {
        "id": "MbfpmNmELoMu",
        "colab": {
          "base_uri": "https://localhost:8080/"
        },
        "outputId": "73772191-1475-4ce5-922b-00f2e73df954"
      },
      "execution_count": 26,
      "outputs": [
        {
          "output_type": "stream",
          "name": "stdout",
          "text": [
            "a = True\n",
            "b = False\n",
            "a and b: False\n",
            "a or b: True\n",
            "not a: False\n",
            "not b: True\n",
            "\n",
            "Checking conditions with logical operators:\n",
            "(x > 5) and (y < 10): True\n",
            "(x < 5) or (y < 10): True\n",
            "not (x == y): True\n"
          ]
        }
      ]
    },
    {
      "cell_type": "markdown",
      "source": [
        "9Q.Write a python program to convert user input from string to integer,float,and boolean types."
      ],
      "metadata": {
        "id": "jGfb1U-RJiZu"
      }
    },
    {
      "cell_type": "code",
      "source": [
        "#answer\n",
        "# Get user input as a string\n",
        "user_input = input(\"Enter something: \")\n",
        "\n",
        "# Convert to integer (if possible)\n",
        "try:\n",
        "    int_value = int(user_input)\n",
        "except ValueError:\n",
        "    int_value = \"Conversion to int failed\"\n",
        "\n",
        "# Convert to float (if possible)\n",
        "try:\n",
        "    float_value = float(user_input)\n",
        "except ValueError:\n",
        "    float_value = \"Conversion to float failed\"\n",
        "\n",
        "bool_value = user_input.strip().lower() in ['true', '1', 'yes']\n",
        "\n",
        "print(f\"Original input (string): {user_input}\")\n",
        "print(f\"Converted to int: {int_value}\")\n",
        "print(f\"Converted to float: {float_value}\")\n",
        "print(f\"Converted to boolean: {bool_value}\")\n"
      ],
      "metadata": {
        "id": "h2dmNmqVJ7s2",
        "colab": {
          "base_uri": "https://localhost:8080/"
        },
        "outputId": "6c07c783-328e-4ade-8d56-de8f6dad4723"
      },
      "execution_count": 13,
      "outputs": [
        {
          "output_type": "stream",
          "name": "stdout",
          "text": [
            "Enter something: chintu\n",
            "Original input (string): chintu\n",
            "Converted to int: Conversion to int failed\n",
            "Converted to float: Conversion to float failed\n",
            "Converted to boolean: False\n"
          ]
        }
      ]
    },
    {
      "cell_type": "markdown",
      "source": [
        "10Q.write a code to demonstrate type casting with list elements."
      ],
      "metadata": {
        "id": "YuNK_uwWKKhD"
      }
    },
    {
      "cell_type": "code",
      "source": [
        "#answer\n",
        "str_numbers = [\"10\", \"20\", \"30\", \"40\"]\n",
        "\n",
        "int_numbers = [int(num) for num in str_numbers]\n",
        "\n",
        "print(\"Original list (strings):\", str_numbers)\n",
        "print(\"Converted list (integers):\", int_numbers)\n",
        "\n",
        "# Now convert integers to floats\n",
        "float_numbers = [float(num) for num in int_numbers]\n",
        "print(\"Converted list (floats):\", float_numbers)\n",
        "\n",
        "# Convert integers to strings again\n",
        "str_again = [str(num) for num in int_numbers]\n",
        "print(\"Converted back to strings:\", str_again)\n"
      ],
      "metadata": {
        "id": "xipEWEJ4F0gC",
        "colab": {
          "base_uri": "https://localhost:8080/"
        },
        "outputId": "148cb455-d3bc-4636-f71e-59500a19eaf3"
      },
      "execution_count": 14,
      "outputs": [
        {
          "output_type": "stream",
          "name": "stdout",
          "text": [
            "Original list (strings): ['10', '20', '30', '40']\n",
            "Converted list (integers): [10, 20, 30, 40]\n",
            "Converted list (floats): [10.0, 20.0, 30.0, 40.0]\n",
            "Converted back to strings: ['10', '20', '30', '40']\n"
          ]
        }
      ]
    },
    {
      "cell_type": "markdown",
      "source": [
        "11Q.write a program that checks if a number is positive,negative,or zero."
      ],
      "metadata": {
        "id": "6vohSqTyLq5E"
      }
    },
    {
      "cell_type": "code",
      "source": [
        "#answer\n",
        "num = float(input(\"Enter a number: \"))\n",
        "\n",
        "# Check if number is positive, negative, or zero\n",
        "if num > 0:\n",
        "    print(\"The number is positive.\")\n",
        "elif num < 0:\n",
        "    print(\"The number is negative.\")\n",
        "else:\n",
        "    print(\"The number is zero.\")\n"
      ],
      "metadata": {
        "colab": {
          "base_uri": "https://localhost:8080/"
        },
        "id": "4LCnCSpHMFq3",
        "outputId": "3efe1cb7-e071-4bc2-9fe8-04e67f3dd012"
      },
      "execution_count": 15,
      "outputs": [
        {
          "output_type": "stream",
          "name": "stdout",
          "text": [
            "Enter a number: 0\n",
            "The number is zero.\n"
          ]
        }
      ]
    },
    {
      "cell_type": "markdown",
      "source": [
        "12Q.Write a for loop to print numbers from 1 to 10."
      ],
      "metadata": {
        "id": "TRurElreFjt1"
      }
    },
    {
      "cell_type": "code",
      "source": [
        "#answer\n",
        "for i in range(1, 11):\n",
        "    print(i)\n"
      ],
      "metadata": {
        "colab": {
          "base_uri": "https://localhost:8080/"
        },
        "id": "yj14TQFBMdcl",
        "outputId": "17f78f26-eb94-4a37-c6f6-1a7fc172e12a"
      },
      "execution_count": 16,
      "outputs": [
        {
          "output_type": "stream",
          "name": "stdout",
          "text": [
            "1\n",
            "2\n",
            "3\n",
            "4\n",
            "5\n",
            "6\n",
            "7\n",
            "8\n",
            "9\n",
            "10\n"
          ]
        }
      ]
    },
    {
      "cell_type": "markdown",
      "source": [
        "13Q.Write a python program to find the sum of all even numbers between 1 and 50."
      ],
      "metadata": {
        "id": "X-5YL6RLFlag"
      }
    },
    {
      "cell_type": "code",
      "source": [
        "#answer\n",
        "even_sum = 0\n",
        "\n",
        "for num in range(1, 51):\n",
        "    if num % 2 == 0:\n",
        "        even_sum += num\n",
        "\n",
        "# Display the result\n",
        "print(\"Sum of even numbers between 1 and 50 is:\", even_sum)\n"
      ],
      "metadata": {
        "id": "J34ofkbTFf09",
        "colab": {
          "base_uri": "https://localhost:8080/"
        },
        "outputId": "5c0fbbe8-2c15-4983-fe08-a96fd38c3ad0"
      },
      "execution_count": 17,
      "outputs": [
        {
          "output_type": "stream",
          "name": "stdout",
          "text": [
            "Sum of even numbers between 1 and 50 is: 650\n"
          ]
        }
      ]
    },
    {
      "cell_type": "markdown",
      "source": [
        "14Q.Write a program to reverse a string using a while loop."
      ],
      "metadata": {
        "id": "GyaaWPegFkxv"
      }
    },
    {
      "cell_type": "code",
      "source": [
        "#answer\n",
        "text = input(\"Enter a string: \")\n",
        "\n",
        "reversed_text = \"\"\n",
        "\n",
        "index = len(text) - 1\n",
        "\n",
        "# Use a while loop to reverse the string\n",
        "while index >= 0:\n",
        "    reversed_text += text[index]\n",
        "    index -= 1\n",
        "\n",
        "# Print the reversed string\n",
        "print(\"Reversed string:\", reversed_text)\n"
      ],
      "metadata": {
        "colab": {
          "base_uri": "https://localhost:8080/"
        },
        "id": "6Z_hp6qcNMqr",
        "outputId": "4fb5e57e-fb18-467e-e32b-a5309a7f8d02"
      },
      "execution_count": 18,
      "outputs": [
        {
          "output_type": "stream",
          "name": "stdout",
          "text": [
            "Enter a string: chintu\n",
            "Reversed string: utnihc\n"
          ]
        }
      ]
    },
    {
      "cell_type": "markdown",
      "source": [
        "15Q.Write a python program to calculate the factorial of a number provided by the user using a while loop."
      ],
      "metadata": {
        "id": "lcnlyF9gFirx"
      }
    },
    {
      "cell_type": "code",
      "execution_count": 19,
      "metadata": {
        "id": "wq4_Afr2E7LE",
        "colab": {
          "base_uri": "https://localhost:8080/"
        },
        "outputId": "94a0a826-4284-4a5f-ddb5-808e046ca048"
      },
      "outputs": [
        {
          "output_type": "stream",
          "name": "stdout",
          "text": [
            "Enter a non-negative integer: 5\n",
            "The factorial of 5 is 120\n"
          ]
        }
      ],
      "source": [
        "#answer\n",
        "num = int(input(\"Enter a non-negative integer: \"))\n",
        "\n",
        "# Check for negative input\n",
        "if num < 0:\n",
        "    print(\"Factorial is not defined for negative numbers.\")\n",
        "else:\n",
        "    factorial = 1\n",
        "    i = 1\n",
        "\n",
        "\n",
        "    # Calculate factorial using a while loop\n",
        "    while i <= num:\n",
        "        factorial *= i\n",
        "        i += 1\n",
        "\n",
        "    # Display the result\n",
        "    print(f\"The factorial of {num} is {factorial}\")\n"
      ]
    },
    {
      "cell_type": "markdown",
      "source": [],
      "metadata": {
        "id": "fs_M0htrE8dt"
      }
    }
  ]
}